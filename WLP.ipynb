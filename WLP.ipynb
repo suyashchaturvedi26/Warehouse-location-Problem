{
  "nbformat": 4,
  "nbformat_minor": 0,
  "metadata": {
    "kernelspec": {
      "display_name": "Python 3",
      "language": "python",
      "name": "python3"
    },
    "language_info": {
      "codemirror_mode": {
        "name": "ipython",
        "version": 3
      },
      "file_extension": ".py",
      "mimetype": "text/x-python",
      "name": "python",
      "nbconvert_exporter": "python",
      "pygments_lexer": "ipython3",
      "version": "3.7.4"
    },
    "colab": {
      "name": "WLP.ipynb",
      "provenance": [],
      "include_colab_link": true
    }
  },
  "cells": [
    {
      "cell_type": "markdown",
      "metadata": {
        "id": "view-in-github",
        "colab_type": "text"
      },
      "source": [
        "<a href=\"https://colab.research.google.com/github/suyashchaturvedi26/Warehouse-location-Problem/blob/main/WLP.ipynb\" target=\"_parent\"><img src=\"https://colab.research.google.com/assets/colab-badge.svg\" alt=\"Open In Colab\"/></a>"
      ]
    },
    {
      "cell_type": "code",
      "metadata": {
        "id": "yEm_pRHaTBbi"
      },
      "source": [
        "import numpy as np\n",
        "import pandas as pd\n",
        "import seaborn as sns; sns.set()  # for plot styling\n",
        "from sklearn.cluster import KMeans\n",
        "import matplotlib.pyplot as plt\n",
        "from pandas import DataFrame\n",
        "from pulp import *\n",
        "from sklearn.metrics.pairwise import euclidean_distances"
      ],
      "execution_count": null,
      "outputs": []
    },
    {
      "cell_type": "code",
      "metadata": {
        "id": "8U9pFG1yTBbm"
      },
      "source": [
        "R1_df=pd.read_excel('OR_Data.xlsx',sheet_name ='R1').set_index('N')\n",
        "R2_df=pd.read_excel('OR_Data.xlsx',sheet_name ='R2').set_index('N')\n",
        "R3_df=pd.read_excel('OR_Data.xlsx',sheet_name ='R3').set_index('N')\n",
        "R4_df=pd.read_excel('OR_Data.xlsx',sheet_name ='R4').set_index('N')\n",
        "R5_df=pd.read_excel('OR_Data.xlsx',sheet_name ='R5').set_index('N')\n",
        "R6_df=pd.read_excel('OR_Data.xlsx',sheet_name ='R6').set_index('N')\n",
        "\n",
        "Warehouse=['W1','W2','W3']"
      ],
      "execution_count": null,
      "outputs": []
    },
    {
      "cell_type": "code",
      "metadata": {
        "id": "GYk438IOTBbn"
      },
      "source": [
        "plt.style.use('default')\n",
        "\n",
        "x=np.array(R6_df['N_X'])\n",
        "y=np.array(R6_df['N_Y'])\n",
        "\n",
        "plt.figure(figsize=(15, 10))\n",
        "plt.scatter(x, y, s=200, cmap='viridis',c='orange')\n",
        "\n",
        "plt.title(\"Customer's Coordinates\",fontsize=20, fontweight='bold')\n",
        "plt.xlabel('X Co-ordinates',fontsize=20)\n",
        "plt.ylabel('Y Co-ordinates',fontsize=20)"
      ],
      "execution_count": null,
      "outputs": []
    },
    {
      "cell_type": "code",
      "metadata": {
        "id": "EhqGqrGiTBbo"
      },
      "source": [
        "kmeans = KMeans(n_clusters=3, random_state=99)\n",
        "\n",
        "X = np.array(R6_df.drop(['a'], 1).astype(float))"
      ],
      "execution_count": null,
      "outputs": []
    },
    {
      "cell_type": "code",
      "metadata": {
        "id": "4fn7V9wCTBbo"
      },
      "source": [
        "wt_kmeansclus = kmeans.fit(X)\n",
        "predicted_kmeans = kmeans.predict(X)"
      ],
      "execution_count": null,
      "outputs": []
    },
    {
      "cell_type": "code",
      "metadata": {
        "id": "GM41qkV3TBbp"
      },
      "source": [
        "plt.style.use('default')\n",
        "plt.figure(figsize=(15, 10))\n",
        "\n",
        "plt.scatter(X[:,0], X[:,1], c=wt_kmeansclus.labels_.astype(float),s=100,cmap='tab20b',marker=\"o\")\n",
        "\n",
        "centers = wt_kmeansclus.cluster_centers_\n",
        "plt.scatter(centers[:, 0], centers[:, 1], c='Black', s=500, marker= '^',alpha=0.8);"
      ],
      "execution_count": null,
      "outputs": []
    },
    {
      "cell_type": "code",
      "metadata": {
        "id": "22DPi2WNTBbp"
      },
      "source": [
        "distance_matrix=euclidean_distances(X, centers)\n",
        "\n",
        "demands=R6_df['a']\n",
        "\n",
        "weighted_demands_df=pd.DataFrame((distance_matrix * demands[:,None]),columns=Warehouse,index=R6_df.index)\n",
        "\n",
        "weighted_demands=weighted_demands_df.to_dict(orient='index')"
      ],
      "execution_count": null,
      "outputs": []
    },
    {
      "cell_type": "code",
      "metadata": {
        "id": "VJg_skzwTBbp"
      },
      "source": [
        "res = dict(zip(Warehouse, weighted_demands)) "
      ],
      "execution_count": null,
      "outputs": []
    },
    {
      "cell_type": "code",
      "metadata": {
        "id": "aCfIiAotTBbq"
      },
      "source": [
        "# Initializing Model\n",
        "model=LpProblem('Warehouse Location Problem', LpMinimize)"
      ],
      "execution_count": null,
      "outputs": []
    },
    {
      "cell_type": "code",
      "metadata": {
        "id": "HgGPf2w9TBbq"
      },
      "source": [
        "Routes = [(cust,war) for cust in R6_df.index for war in Warehouse]"
      ],
      "execution_count": null,
      "outputs": []
    },
    {
      "cell_type": "code",
      "metadata": {
        "id": "ZH7pOHq6TBbr"
      },
      "source": [
        "bool_vars=LpVariable.dicts('Customer',(R6_df.index,Warehouse),0,None,LpBinary)"
      ],
      "execution_count": null,
      "outputs": []
    },
    {
      "cell_type": "code",
      "metadata": {
        "id": "-BNkW44PTBbr"
      },
      "source": [
        "model += lpSum([bool_vars[cust][war]*weighted_demands[cust][war] for (cust,war) in Routes]), \"Sum of Weighted\""
      ],
      "execution_count": null,
      "outputs": []
    },
    {
      "cell_type": "code",
      "metadata": {
        "id": "1_8XsDeiTBbr"
      },
      "source": [
        "for cust in R6_df.index:\n",
        "    model += lpSum([bool_vars[cust][war] for war in Warehouse]) == 1, \"Sum of Products out of Warehouse %s\"%cust"
      ],
      "execution_count": null,
      "outputs": []
    },
    {
      "cell_type": "code",
      "metadata": {
        "id": "F42x7jDHTBbr"
      },
      "source": [
        "model.solve()"
      ],
      "execution_count": null,
      "outputs": []
    },
    {
      "cell_type": "code",
      "metadata": {
        "id": "NW6gr9I9TBbs"
      },
      "source": [
        "print(\"Status:\", LpStatus[model.status])"
      ],
      "execution_count": null,
      "outputs": []
    },
    {
      "cell_type": "code",
      "metadata": {
        "id": "qK5twKMyTBbs"
      },
      "source": [
        "model.writeLP(\"Warehouse Location Problem.lp\")"
      ],
      "execution_count": null,
      "outputs": []
    },
    {
      "cell_type": "code",
      "metadata": {
        "id": "V7fWWn_dTBbs"
      },
      "source": [
        "for v in model.variables():\n",
        "    if(v.varValue==1):\n",
        "        print(v.name, \"=\", v.varValue)"
      ],
      "execution_count": null,
      "outputs": []
    },
    {
      "cell_type": "code",
      "metadata": {
        "id": "qldm0l1ATBbt"
      },
      "source": [
        "print(\"Sum of Weighted Distances of the Customers = \", value(model.objective))"
      ],
      "execution_count": null,
      "outputs": []
    },
    {
      "cell_type": "code",
      "metadata": {
        "id": "XSnX02OHTBbt"
      },
      "source": [
        ""
      ],
      "execution_count": null,
      "outputs": []
    }
  ]
}